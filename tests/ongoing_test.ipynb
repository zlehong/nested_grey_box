{
 "cells": [
  {
   "cell_type": "code",
   "execution_count": null,
   "metadata": {},
   "outputs": [],
   "source": [
    "import numpy as np\n",
    "import pandas as pd\n",
    "\n",
    "from nested_grey_box.nested_grey_box.climate import Climate\n",
    "from nested_grey_box.nested_grey_box.energy import ShoeboxEnergy\n",
    "from nested_grey_box.nested_grey_box.geometry import NGBShoebox"
   ]
  },
  {
   "cell_type": "code",
   "execution_count": null,
   "metadata": {},
   "outputs": [],
   "source": [
    "epw_path = \"C:/Users/zoele/Git_Repos/nested-grey-box/nested-grey-box/data/COMBINED_TRAINING.epw\""
   ]
  },
  {
   "cell_type": "code",
   "execution_count": null,
   "metadata": {},
   "outputs": [],
   "source": [
    "%%time\n",
    "# Initialize geometry\n",
    "test_box = NGBShoebox(epw_path)\n",
    "test_box.energy_setup()\n",
    "test_energy = ShoeboxEnergy(test_box)"
   ]
  },
  {
   "cell_type": "code",
   "execution_count": null,
   "metadata": {},
   "outputs": [],
   "source": [
    "%%time\n",
    "test_energy.calc_solar_gains()\n",
    "sum(test_energy.SolarGain)"
   ]
  },
  {
   "cell_type": "code",
   "execution_count": null,
   "metadata": {},
   "outputs": [],
   "source": [
    "%%time\n",
    "test_box._gen_test_schedules()\n",
    "test_energy.calc_internal_gains()\n",
    "test_energy.LightGain_hr.sum()"
   ]
  }
 ],
 "metadata": {
  "kernelspec": {
   "display_name": "Python 3",
   "language": "python",
   "name": "python3"
  },
  "language_info": {
   "name": "python",
   "version": "3.9.7 (tags/v3.9.7:1016ef3, Aug 30 2021, 20:19:38) [MSC v.1929 64 bit (AMD64)]"
  },
  "orig_nbformat": 4,
  "vscode": {
   "interpreter": {
    "hash": "c347c8f9a7ef94e4c9e03b4513be7835ed18f45b99a2a817fb579f408b867b16"
   }
  }
 },
 "nbformat": 4,
 "nbformat_minor": 2
}
